{
 "cells": [
  {
   "cell_type": "markdown",
   "metadata": {},
   "source": [
    "The colleague Julian defined a [dictionary](https://www.w3schools.com/python/python_dictionaries.asp), that maps between [airport codes](https://en.wikipedia.org/wiki/IATA_airport_code) and [country codes](https://en.wikipedia.org/wiki/International_Air_Transport_Association_code#Country_codes):"
   ]
  },
  {
   "cell_type": "code",
   "execution_count": 1,
   "metadata": {},
   "outputs": [],
   "source": [
    "conf_airports = {\"FRA\": \"DE\", \"MUC\": \"DE\", \"CGN\": \"DE\", \"JFK\": \"US\", \"EWR\": \"US\"}"
   ]
  },
  {
   "cell_type": "markdown",
   "metadata": {},
   "source": [
    "Both the keys and values are of type [string](https://www.w3schools.com/python/python_strings.asp)"
   ]
  },
  {
   "cell_type": "markdown",
   "metadata": {},
   "source": [
    "Unfortunately he gave it to us in a mapping where the Key seems to be the Airport code, and the value is the country. For the further analysis we would like to have it stored in a different format, which makes filtering on countries more easy. The target format is a hierarchical store, where the key is the country and the value is a [list](https://www.w3schools.com/python/python_lists.asp) of all the airports of the country. Please write a [function](https://www.w3schools.com/python/python_functions.asp) that changes the messed up conf_airport to the following dictionary with the hierarchical structure: \n",
    "`{'DE': ['FRA', 'MUC', 'CGN'], 'US': ['JFK', 'EWR']}`"
   ]
  },
  {
   "cell_type": "code",
   "execution_count": null,
   "metadata": {
    "tags": [
     "task"
    ]
   },
   "outputs": [],
   "source": [
    "def convert_to_hierarchical_airports(conf_airports):\n",
    "    # Write your code here\n",
    "    return airports"
   ]
  },
  {
   "cell_type": "code",
   "execution_count": 3,
   "metadata": {},
   "outputs": [],
   "source": [
    "hierarchical_airports = convert_to_hierarchical_airports(conf_airports)"
   ]
  },
  {
   "cell_type": "code",
   "execution_count": 4,
   "metadata": {},
   "outputs": [
    {
     "data": {
      "text/plain": [
       "{'DE': ['FRA', 'MUC', 'CGN'], 'US': ['JFK', 'EWR']}"
      ]
     },
     "execution_count": 4,
     "metadata": {},
     "output_type": "execute_result"
    }
   ],
   "source": [
    "hierarchical_airports"
   ]
  },
  {
   "cell_type": "markdown",
   "metadata": {},
   "source": [
    "The [assert keyword](https://www.w3schools.com/python/ref_keyword_assert.asp) checks if you converted the airports correctly. If not it will throw an error."
   ]
  },
  {
   "cell_type": "code",
   "execution_count": 5,
   "metadata": {},
   "outputs": [],
   "source": [
    "assert hierarchical_airports == {'US': ['JFK', 'EWR'], 'DE': ['FRA', 'MUC', 'CGN']}"
   ]
  },
  {
   "cell_type": "markdown",
   "metadata": {},
   "source": [
    "Bonus task:\n",
    "write a function that counts the number of airports per country and returns the information in a sorted order"
   ]
  },
  {
   "cell_type": "code",
   "execution_count": null,
   "metadata": {
    "tags": [
     "task"
    ]
   },
   "outputs": [],
   "source": [
    "num_airports_per_country = # Write your code here"
   ]
  },
  {
   "cell_type": "code",
   "execution_count": 7,
   "metadata": {},
   "outputs": [
    {
     "data": {
      "text/plain": [
       "{'DE': 3, 'US': 2}"
      ]
     },
     "execution_count": 7,
     "metadata": {},
     "output_type": "execute_result"
    }
   ],
   "source": [
    "num_airports_per_country"
   ]
  }
 ],
 "metadata": {
  "kernelspec": {
   "display_name": "Python 3",
   "language": "python",
   "name": "python3"
  },
  "language_info": {
   "codemirror_mode": {
    "name": "ipython",
    "version": 3
   },
   "file_extension": ".py",
   "mimetype": "text/x-python",
   "name": "python",
   "nbconvert_exporter": "python",
   "pygments_lexer": "ipython3",
   "version": "3.7.9"
  }
 },
 "nbformat": 4,
 "nbformat_minor": 4
}
